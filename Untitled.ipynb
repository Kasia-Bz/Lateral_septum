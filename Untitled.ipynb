{
 "cells": [
  {
   "cell_type": "code",
   "execution_count": 21,
   "id": "green-radius",
   "metadata": {},
   "outputs": [],
   "source": [
    "from functions import position_load\n",
    "from functions import loading\n",
    "from functions import time_alignment\n",
    "import numpy as np\n",
    "from pathlib import Path"
   ]
  },
  {
   "cell_type": "code",
   "execution_count": 2,
   "id": "involved-budapest",
   "metadata": {},
   "outputs": [
    {
     "name": "stdout",
     "output_type": "stream",
     "text": [
      "(-595.0555725512747, 0.00046972608032747276)\n"
     ]
    }
   ],
   "source": [
    "pathn = Path('/mnt/fk-fileserver/Project_LS/LS_k_8/110220/Neuralynx_data/2021-02-11_12-35-54/DLC/Events.nev')\n",
    "pathg = Path('/mnt/fk-fileserver/Project_LS/LS_k_8/110220/110221_g0/110221_g0_imec0/110221_g0_t0.imec0.lf.bin')\n",
    "align_f = Path('time_offset.h5')\n",
    "\n",
    "ta = time_alignment.align_time(align_file=align_f, pathnlx=pathn, pathglx=pathg)"
   ]
  },
  {
   "cell_type": "code",
   "execution_count": 22,
   "id": "industrial-scout",
   "metadata": {},
   "outputs": [],
   "source": [
    "from fklab.spikes.Kilosort.utilities_kilosort import KiloSortResult\n",
    "\n",
    "ks = KiloSortResult('/mnt/fk-fileserver/Project_LS/LS_k_8/110220/110221_g0/110221_g0_imec0/catgt_110221_g0/params.py') # load kilosort result\n",
    "cluster_ids = ks.get_good_cluster_group() \n",
    "#cluster_ids_LS = [i for i in cluster_ids if i < 471]\n",
    "spike_t = {}\n",
    "for cl in cluster_ids:\n",
    "    spike_t[cl] = ta.time_map('nlx', ks.time_sec(ks.get_spike_time(ks.get_spike_for_cluster(cl))))\n",
    "    spike_t[cl] = spike_t[cl][~np.isnan(spike_t[cl])]"
   ]
  },
  {
   "cell_type": "code",
   "execution_count": 3,
   "id": "juvenile-brother",
   "metadata": {},
   "outputs": [],
   "source": [
    "path = ('/mnt/fk-fileserver/Project_LS/LS_k_8/110220/Neuralynx_data/2021-02-11_12-35-54/DLC/epochs/training/position.hdf5')\n"
   ]
  },
  {
   "cell_type": "code",
   "execution_count": 4,
   "id": "signal-survivor",
   "metadata": {},
   "outputs": [],
   "source": [
    "position_at, xy, x, y, position_time = position_load.load_pos(epoch=[613,2300], path=path)\n"
   ]
  },
  {
   "cell_type": "code",
   "execution_count": 5,
   "id": "sixth-reference",
   "metadata": {},
   "outputs": [],
   "source": [
    "from functions import load_maze \n",
    "path=('/mnt/fk-fileserver/Project_LS/LS_k_8/110220/Neuralynx_data/2021-02-11_12-35-54/DLC/epochs/training/environment.yaml')\n",
    "load_maze.load_environment_yaml(path)"
   ]
  },
  {
   "cell_type": "code",
   "execution_count": 6,
   "id": "suburban-press",
   "metadata": {},
   "outputs": [],
   "source": [
    "RR, LR, HR, CP, w_CP = load_maze.maze()"
   ]
  },
  {
   "cell_type": "code",
   "execution_count": 7,
   "id": "tracked-conversation",
   "metadata": {},
   "outputs": [
    {
     "data": {
      "image/png": "[encoded data removed]",
      "text/plain": [
       "<Figure size 432x288 with 1 Axes>"
      ]
     },
     "metadata": {
      "needs_background": "light"
     },
     "output_type": "display_data"
    }
   ],
   "source": [
    "load_maze.plot_maze(RR, LR, HR, CP, w_CP)"
   ]
  },
  {
   "cell_type": "code",
   "execution_count": 13,
   "id": "meaningful-position",
   "metadata": {},
   "outputs": [],
   "source": [
    "from functions import create_segments\n",
    "outbound, _,_  = create_segments.create_segments(position_time, xy, RR, LR, HR, CP, w_CP)"
   ]
  },
  {
   "cell_type": "code",
   "execution_count": 18,
   "id": "revised-portrait",
   "metadata": {},
   "outputs": [],
   "source": [
    "from fklab.behavior.task_analysis import detect_trajectories\n",
    "\n",
    "outbound_right = detect_trajectories(position_time, xy, include_regions=[HR,CP,RR], exclude_regions=[LR], ordered=True, revisit=False)\n",
    "outbound_left = detect_trajectories(position_time, xy, include_regions= [HR, CP,LR], exclude_regions=[RR], ordered=True, revisit=True)\n",
    "inbound_right = detect_trajectories(position_time, xy, include_regions= [RR, CP,HR], ordered=True, revisit=True)\n",
    "inbound_left = detect_trajectories(position_time, xy, include_regions= [LR, CP,HR], ordered=True, revisit=True)\n",
    "choice = detect_trajectories(position_time, xy, include_regions= [HR,CP], ordered=True, revisit=True)\n",
    "outbound=outbound_right.union(outbound_left)\n",
    "inbound=inbound_right.union(inbound_left)\n",
    "out_in = outbound.union(inbound)\n",
    "right=detect_trajectories(position_time, xy, include_regions=[CP,RR], exclude_regions=[LR], ordered=True, revisit=False)\n",
    "left=detect_trajectories(position_time, xy, include_regions=[CP,LR], exclude_regions=[LR], ordered=True, revisit=False)\n",
    "right_in=detect_trajectories(position_time, xy, include_regions=[RR,CP], exclude_regions=[LR], ordered=True, revisit=False)\n",
    "left_in=detect_trajectories(position_time, xy, include_regions=[LR,CP], exclude_regions=[RR], ordered=True, revisit=False)"
   ]
  },
  {
   "cell_type": "code",
   "execution_count": 29,
   "id": "abroad-olympus",
   "metadata": {},
   "outputs": [
    {
     "name": "stderr",
     "output_type": "stream",
     "text": [
      "/mnt/fk-fileserver/Project_LS/Dataanalysis/Lateral_septum/functions/theta_modulation.py:55: RuntimeWarning: invalid value encountered in double_scalars\n",
      "  theta_rel_power = theta_power / total_power\n"
     ]
    }
   ],
   "source": [
    "from functions import theta_modulation\n",
    "import fklab\n",
    "\n",
    "results_mod = {}\n",
    "nshuffles = 500\n",
    "for cl in cluster_ids:\n",
    "    spikes = spike_t[cl]\n",
    "    psd, f, tpower, totpower, mod = theta_modulation.theta_modulation(spikes, segments=outbound)\n",
    "    \n",
    "    shuffled_results=[]\n",
    "    for n in range(nshuffles):\n",
    "        shuffle_t = theta_modulation.shuffle_spike_train(spikes)\n",
    "        shuffled_results.append(theta_modulation.theta_modulation(shuffle_t, segments=out_in))\n",
    "        \n",
    "        shuffled_power = np.array([x for _,_,_,_, x in shuffled_results])\n",
    "    \n",
    "        p = fklab.statistics.core.monte_carlo_pvalue(shuffled_power, mod)\n",
    "    \n",
    "    results_mod[cl] = {'modulation': mod, 'shuffles': shuffled_results, 'pvalue': p}"
   ]
  },
  {
   "cell_type": "code",
   "execution_count": 32,
   "id": "champion-complexity",
   "metadata": {},
   "outputs": [
    {
     "data": {
      "image/png": "[encoded data removed]",
      "text/plain": [
       "<Figure size 432x288 with 1 Axes>"
      ]
     },
     "metadata": {
      "needs_background": "light"
     },
     "output_type": "display_data"
    }
   ],
   "source": [
    "import matplotlib.pyplot as plt\n",
    "\n",
    "theta_modulation = np.array([k['modulation'] for k in results_mod.values()])\n",
    "mod_p = np.array([k['pvalue'] for k in results_mod.values()])\n",
    "\n",
    "fig, ax = plt.subplots(1,1, figsize=(6,4))\n",
    "ax.hist([theta_modulation[mod_p>=0.01], theta_modulation[mod_p<0.01]], bins=np.linspace(-1,1,20), stacked=True, \n",
    "        color=['lightgray','black'], label=['n.s.', 'p<0.01'])\n",
    "ax.legend()\n",
    "ax.set(title=\"{:.0f}% significant\".format(100*np.mean(mod_p<0.01)), xlabel=\"theta_modulation_index\");"
   ]
  },
  {
   "cell_type": "code",
   "execution_count": 33,
   "id": "veterinary-riding",
   "metadata": {},
   "outputs": [],
   "source": [
    "t_mod = r = np.array([[cl, k['modulation'], k['pvalue']] for cl,k in results_mod.items()])"
   ]
  },
  {
   "cell_type": "code",
   "execution_count": 35,
   "id": "satellite-induction",
   "metadata": {},
   "outputs": [
    {
     "data": {
      "text/plain": [
       "array([ 42.,  59.,  66.,  70.,  77.,  84.,  89.,  97., 100., 123., 126.,\n",
       "       169., 177., 181., 185., 187., 188., 189., 203., 205., 207., 212.,\n",
       "       216., 225., 229., 231., 232., 235., 236., 237., 239., 245., 246.,\n",
       "       247., 249., 251., 253., 267., 276., 279., 282., 288., 294., 297.,\n",
       "       303., 304., 305., 306., 311., 314., 315., 323., 328., 351., 352.,\n",
       "       371., 372., 374., 392., 399., 404., 409., 413., 455., 520., 534.,\n",
       "       587., 635., 642., 647., 648., 649., 650., 655., 656., 659., 661.,\n",
       "       679., 680., 681., 695., 722., 731., 752., 765., 766., 778., 780.,\n",
       "       802., 808., 811., 820., 828.])"
      ]
     },
     "execution_count": 35,
     "metadata": {},
     "output_type": "execute_result"
    }
   ],
   "source": [
    "modulated_cl = r[r[:,2] < 0.01]\n",
    "modulated_cl[:,0]"
   ]
  },
  {
   "cell_type": "code",
   "execution_count": null,
   "id": "proud-authority",
   "metadata": {},
   "outputs": [],
   "source": []
  }
 ],
 "metadata": {
  "kernelspec": {
   "display_name": "Python 3",
   "language": "python",
   "name": "python3"
  },
  "language_info": {
   "codemirror_mode": {
    "name": "ipython",
    "version": 3
   },
   "file_extension": ".py",
   "mimetype": "text/x-python",
   "name": "python",
   "nbconvert_exporter": "python",
   "pygments_lexer": "ipython3",
   "version": "3.7.10"
  }
 },
 "nbformat": 4,
 "nbformat_minor": 5
}
