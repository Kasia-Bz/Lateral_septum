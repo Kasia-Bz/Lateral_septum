{
 "cells": [
  {
   "cell_type": "code",
   "execution_count": 1,
   "id": "green-radius",
   "metadata": {},
   "outputs": [],
   "source": [
    "from functions import position_load\n",
    "from functions import loading\n",
    "from functions import time_alignment\n",
    "import numpy as np\n",
    "from pathlib import Path"
   ]
  },
  {
   "cell_type": "code",
   "execution_count": 2,
   "id": "involved-budapest",
   "metadata": {},
   "outputs": [
    {
     "name": "stdout",
     "output_type": "stream",
     "text": [
      "(-595.0555725512747, 0.00046972608032747276)\n"
     ]
    }
   ],
   "source": [
    "pathn = Path('/mnt/fk-fileserver/Project_LS/LS_k_8/110220/Neuralynx_data/2021-02-11_12-35-54/DLC/Events.nev')\n",
    "pathg = Path('/mnt/fk-fileserver/Project_LS/LS_k_8/110220/110221_g0/110221_g0_imec0/110221_g0_t0.imec0.lf.bin')\n",
    "align_f = Path('time_offset.h5')\n",
    "\n",
    "ta = time_alignment.align_time(align_file=align_f, pathnlx=pathn, pathglx=pathg)"
   ]
  },
  {
   "cell_type": "code",
   "execution_count": 3,
   "id": "color-conflict",
   "metadata": {},
   "outputs": [],
   "source": [
    "from fklab.spikes.Kilosort.utilities_kilosort import KiloSortResult\n",
    "\n",
    "ks = KiloSortResult('/mnt/fk-fileserver/Project_LS/LS_k_8/110220/110221_g0/110221_g0_imec0/catgt_110221_g0/params.py') # load kilosort result\n",
    "cluster_ids = ks.get_good_cluster_group() \n",
    "#cluster_ids_LS = [i for i in cluster_ids if i < 471]\n",
    "spike_t = {}\n",
    "for cl in cluster_ids:\n",
    "    spike_t[cl] = ta.time_map('nlx', ks.time_sec(ks.get_spike_time(ks.get_spike_for_cluster(cl))))\n",
    "    spike_t[cl] = spike_t[cl][~np.isnan(spike_t[cl])]"
   ]
  },
  {
   "cell_type": "code",
   "execution_count": 47,
   "id": "composite-narrow",
   "metadata": {},
   "outputs": [],
   "source": [
    "channels = ks.get_channel_for_cluster(ks.get_good_cluster_group())\n",
    "depth = ks.get_channel_pos(channels)[:, 1]\n"
   ]
  },
  {
   "cell_type": "code",
   "execution_count": 48,
   "id": "normal-drunk",
   "metadata": {},
   "outputs": [],
   "source": [
    "import pandas as pd \n",
    "data = {'Cluster_id': [cluster_ids], 'Channel': [channels], \"depth\": [depth]}\n",
    "df = pd.DataFrame(data)  "
   ]
  },
  {
   "cell_type": "code",
   "execution_count": 60,
   "id": "rapid-passport",
   "metadata": {},
   "outputs": [],
   "source": [
    "df2 = pd.DataFrame({'cluster_ids': cluster_ids,\n",
    "                    'channels': channels,\n",
    "                    'depth': depth})"
   ]
  },
  {
   "cell_type": "code",
   "execution_count": 1,
   "id": "lesser-daughter",
   "metadata": {},
   "outputs": [],
   "source": [
    "from functions import summary_table as st\n",
    "\n",
    "path = ('/mnt/fk-fileserver/Project_LS/LS_k_8/110220/110221_g0/110221_g0_imec0/catgt_110221_g0')\n"
   ]
  },
  {
   "cell_type": "code",
   "execution_count": 2,
   "id": "advisory-wagon",
   "metadata": {},
   "outputs": [],
   "source": [
    "table = st.load_cluster(path)\n"
   ]
  },
  {
   "cell_type": "code",
   "execution_count": 3,
   "id": "fitting-gates",
   "metadata": {},
   "outputs": [
    {
     "data": {
      "image/png": "[encoded data removed]",
      "text/plain": [
       "<Figure size 576x720 with 1 Axes>"
      ]
     },
     "metadata": {
      "needs_background": "light"
     },
     "output_type": "display_data"
    }
   ],
   "source": [
    "st.plot_spikes_depth(table, color='r')"
   ]
  },
  {
   "cell_type": "code",
   "execution_count": 3,
   "id": "primary-madagascar",
   "metadata": {},
   "outputs": [
    {
     "data": {
      "text/html": [
       "<div>\n",
       "<style scoped>\n",
       "    .dataframe tbody tr th:only-of-type {\n",
       "        vertical-align: middle;\n",
       "    }\n",
       "\n",
       "    .dataframe tbody tr th {\n",
       "        vertical-align: top;\n",
       "    }\n",
       "\n",
       "    .dataframe thead th {\n",
       "        text-align: right;\n",
       "    }\n",
       "</style>\n",
       "<table border=\"1\" class=\"dataframe\">\n",
       "  <thead>\n",
       "    <tr style=\"text-align: right;\">\n",
       "      <th></th>\n",
       "      <th>cluster_ids</th>\n",
       "      <th>channels</th>\n",
       "      <th>depth</th>\n",
       "      <th>n_spikes</th>\n",
       "      <th>firing_rate</th>\n",
       "    </tr>\n",
       "  </thead>\n",
       "  <tbody>\n",
       "    <tr>\n",
       "      <th>0</th>\n",
       "      <td>42</td>\n",
       "      <td>68</td>\n",
       "      <td>700.0</td>\n",
       "      <td>80175</td>\n",
       "      <td>22.140940</td>\n",
       "    </tr>\n",
       "    <tr>\n",
       "      <th>1</th>\n",
       "      <td>43</td>\n",
       "      <td>73</td>\n",
       "      <td>740.0</td>\n",
       "      <td>172575</td>\n",
       "      <td>47.657907</td>\n",
       "    </tr>\n",
       "    <tr>\n",
       "      <th>2</th>\n",
       "      <td>59</td>\n",
       "      <td>79</td>\n",
       "      <td>800.0</td>\n",
       "      <td>43360</td>\n",
       "      <td>11.974196</td>\n",
       "    </tr>\n",
       "    <tr>\n",
       "      <th>3</th>\n",
       "      <td>60</td>\n",
       "      <td>81</td>\n",
       "      <td>820.0</td>\n",
       "      <td>15212</td>\n",
       "      <td>4.200910</td>\n",
       "    </tr>\n",
       "    <tr>\n",
       "      <th>4</th>\n",
       "      <td>62</td>\n",
       "      <td>77</td>\n",
       "      <td>780.0</td>\n",
       "      <td>8411</td>\n",
       "      <td>2.322762</td>\n",
       "    </tr>\n",
       "    <tr>\n",
       "      <th>...</th>\n",
       "      <td>...</td>\n",
       "      <td>...</td>\n",
       "      <td>...</td>\n",
       "      <td>...</td>\n",
       "      <td>...</td>\n",
       "    </tr>\n",
       "    <tr>\n",
       "      <th>175</th>\n",
       "      <td>818</td>\n",
       "      <td>195</td>\n",
       "      <td>1980.0</td>\n",
       "      <td>11309</td>\n",
       "      <td>3.123067</td>\n",
       "    </tr>\n",
       "    <tr>\n",
       "      <th>176</th>\n",
       "      <td>820</td>\n",
       "      <td>200</td>\n",
       "      <td>2020.0</td>\n",
       "      <td>10393</td>\n",
       "      <td>2.870106</td>\n",
       "    </tr>\n",
       "    <tr>\n",
       "      <th>177</th>\n",
       "      <td>824</td>\n",
       "      <td>289</td>\n",
       "      <td>2920.0</td>\n",
       "      <td>10160</td>\n",
       "      <td>2.805762</td>\n",
       "    </tr>\n",
       "    <tr>\n",
       "      <th>178</th>\n",
       "      <td>828</td>\n",
       "      <td>302</td>\n",
       "      <td>3040.0</td>\n",
       "      <td>528</td>\n",
       "      <td>0.145811</td>\n",
       "    </tr>\n",
       "    <tr>\n",
       "      <th>179</th>\n",
       "      <td>830</td>\n",
       "      <td>292</td>\n",
       "      <td>2940.0</td>\n",
       "      <td>11114</td>\n",
       "      <td>3.069216</td>\n",
       "    </tr>\n",
       "  </tbody>\n",
       "</table>\n",
       "<p>180 rows × 5 columns</p>\n",
       "</div>"
      ],
      "text/plain": [
       "     cluster_ids  channels   depth  n_spikes  firing_rate\n",
       "0             42        68   700.0     80175    22.140940\n",
       "1             43        73   740.0    172575    47.657907\n",
       "2             59        79   800.0     43360    11.974196\n",
       "3             60        81   820.0     15212     4.200910\n",
       "4             62        77   780.0      8411     2.322762\n",
       "..           ...       ...     ...       ...          ...\n",
       "175          818       195  1980.0     11309     3.123067\n",
       "176          820       200  2020.0     10393     2.870106\n",
       "177          824       289  2920.0     10160     2.805762\n",
       "178          828       302  3040.0       528     0.145811\n",
       "179          830       292  2940.0     11114     3.069216\n",
       "\n",
       "[180 rows x 5 columns]"
      ]
     },
     "execution_count": 3,
     "metadata": {},
     "output_type": "execute_result"
    }
   ],
   "source": [
    "table"
   ]
  },
  {
   "cell_type": "code",
   "execution_count": 3,
   "id": "juvenile-brother",
   "metadata": {},
   "outputs": [],
   "source": [
    "path = ('/mnt/fk-fileserver/Project_LS/LS_k_8/110220/Neuralynx_data/2021-02-11_12-35-54/DLC/epochs/training/position.hdf5')\n"
   ]
  },
  {
   "cell_type": "code",
   "execution_count": 4,
   "id": "signal-survivor",
   "metadata": {},
   "outputs": [],
   "source": [
    "position_at, xy, x, y, position_time = position_load.load_pos(epoch=[613,2300], path=path)\n"
   ]
  },
  {
   "cell_type": "code",
   "execution_count": 5,
   "id": "sixth-reference",
   "metadata": {},
   "outputs": [],
   "source": [
    "from functions import load_maze \n",
    "path=('/mnt/fk-fileserver/Project_LS/LS_k_8/110220/Neuralynx_data/2021-02-11_12-35-54/DLC/epochs/training/environment.yaml')\n",
    "load_maze.load_environment_yaml(path)"
   ]
  },
  {
   "cell_type": "code",
   "execution_count": 6,
   "id": "suburban-press",
   "metadata": {},
   "outputs": [],
   "source": [
    "RR, LR, HR, CP, w_CP = load_maze.maze()"
   ]
  },
  {
   "cell_type": "code",
   "execution_count": 7,
   "id": "tracked-conversation",
   "metadata": {},
   "outputs": [
    {
     "data": {
      "image/png": "[encoded data removed]",
      "text/plain": [
       "<Figure size 432x288 with 1 Axes>"
      ]
     },
     "metadata": {
      "needs_background": "light"
     },
     "output_type": "display_data"
    }
   ],
   "source": [
    "load_maze.plot_maze(RR, LR, HR, CP, w_CP)"
   ]
  },
  {
   "cell_type": "code",
   "execution_count": 13,
   "id": "meaningful-position",
   "metadata": {},
   "outputs": [],
   "source": [
    "from functions import create_segments\n",
    "outbound, _,_  = create_segments.create_segments(position_time, xy, RR, LR, HR, CP, w_CP)"
   ]
  },
  {
   "cell_type": "code",
   "execution_count": 18,
   "id": "revised-portrait",
   "metadata": {},
   "outputs": [],
   "source": [
    "from fklab.behavior.task_analysis import detect_trajectories\n",
    "\n",
    "outbound_right = detect_trajectories(position_time, xy, include_regions=[HR,CP,RR], exclude_regions=[LR], ordered=True, revisit=False)\n",
    "outbound_left = detect_trajectories(position_time, xy, include_regions= [HR, CP,LR], exclude_regions=[RR], ordered=True, revisit=True)\n",
    "inbound_right = detect_trajectories(position_time, xy, include_regions= [RR, CP,HR], ordered=True, revisit=True)\n",
    "inbound_left = detect_trajectories(position_time, xy, include_regions= [LR, CP,HR], ordered=True, revisit=True)\n",
    "choice = detect_trajectories(position_time, xy, include_regions= [HR,CP], ordered=True, revisit=True)\n",
    "outbound=outbound_right.union(outbound_left)\n",
    "inbound=inbound_right.union(inbound_left)\n",
    "out_in = outbound.union(inbound)\n",
    "right=detect_trajectories(position_time, xy, include_regions=[CP,RR], exclude_regions=[LR], ordered=True, revisit=False)\n",
    "left=detect_trajectories(position_time, xy, include_regions=[CP,LR], exclude_regions=[LR], ordered=True, revisit=False)\n",
    "right_in=detect_trajectories(position_time, xy, include_regions=[RR,CP], exclude_regions=[LR], ordered=True, revisit=False)\n",
    "left_in=detect_trajectories(position_time, xy, include_regions=[LR,CP], exclude_regions=[RR], ordered=True, revisit=False)"
   ]
  },
  {
   "cell_type": "code",
   "execution_count": 29,
   "id": "incomplete-initial",
   "metadata": {},
   "outputs": [
    {
     "name": "stderr",
     "output_type": "stream",
     "text": [
      "/mnt/fk-fileserver/Project_LS/Dataanalysis/Lateral_septum/functions/theta_modulation.py:55: RuntimeWarning: invalid value encountered in double_scalars\n",
      "  theta_rel_power = theta_power / total_power\n"
     ]
    }
   ],
   "source": [
    "from functions import theta_modulation\n",
    "import fklab\n",
    "\n",
    "results_mod = {}\n",
    "nshuffles = 500\n",
    "for cl in cluster_ids:\n",
    "    spikes = spike_t[cl]\n",
    "    psd, f, tpower, totpower, mod = theta_modulation.theta_modulation(spikes, segments=outbound)\n",
    "    \n",
    "    shuffled_results=[]\n",
    "    for n in range(nshuffles):\n",
    "        shuffle_t = theta_modulation.shuffle_spike_train(spikes)\n",
    "        shuffled_results.append(theta_modulation.theta_modulation(shuffle_t, segments=out_in))\n",
    "        \n",
    "        shuffled_power = np.array([x for _,_,_,_, x in shuffled_results])\n",
    "    \n",
    "        p = fklab.statistics.core.monte_carlo_pvalue(shuffled_power, mod)\n",
    "    \n",
    "    results_mod[cl] = {'modulation': mod, 'shuffles': shuffled_results, 'pvalue': p}"
   ]
  },
  {
   "cell_type": "code",
   "execution_count": 32,
   "id": "vocational-version",
   "metadata": {},
   "outputs": [
    {
     "data": {
      "image/png": "[encoded data removed]",
      "text/plain": [
       "<Figure size 432x288 with 1 Axes>"
      ]
     },
     "metadata": {
      "needs_background": "light"
     },
     "output_type": "display_data"
    }
   ],
   "source": [
    "import matplotlib.pyplot as plt\n",
    "\n",
    "theta_modulation = np.array([k['modulation'] for k in results_mod.values()])\n",
    "mod_p = np.array([k['pvalue'] for k in results_mod.values()])\n",
    "\n",
    "fig, ax = plt.subplots(1,1, figsize=(6,4))\n",
    "ax.hist([theta_modulation[mod_p>=0.01], theta_modulation[mod_p<0.01]], bins=np.linspace(-1,1,20), stacked=True, \n",
    "        color=['lightgray','black'], label=['n.s.', 'p<0.01'])\n",
    "ax.legend()\n",
    "ax.set(title=\"{:.0f}% significant\".format(100*np.mean(mod_p<0.01)), xlabel=\"theta_modulation_index\");"
   ]
  },
  {
   "cell_type": "code",
   "execution_count": 33,
   "id": "flexible-mandate",
   "metadata": {},
   "outputs": [],
   "source": [
    "t_mod = r = np.array([[cl, k['modulation'], k['pvalue']] for cl,k in results_mod.items()])"
   ]
  },
  {
   "cell_type": "code",
   "execution_count": 35,
   "id": "pacific-applicant",
   "metadata": {},
   "outputs": [
    {
     "data": {
      "text/plain": [
       "array([ 42.,  59.,  66.,  70.,  77.,  84.,  89.,  97., 100., 123., 126.,\n",
       "       169., 177., 181., 185., 187., 188., 189., 203., 205., 207., 212.,\n",
       "       216., 225., 229., 231., 232., 235., 236., 237., 239., 245., 246.,\n",
       "       247., 249., 251., 253., 267., 276., 279., 282., 288., 294., 297.,\n",
       "       303., 304., 305., 306., 311., 314., 315., 323., 328., 351., 352.,\n",
       "       371., 372., 374., 392., 399., 404., 409., 413., 455., 520., 534.,\n",
       "       587., 635., 642., 647., 648., 649., 650., 655., 656., 659., 661.,\n",
       "       679., 680., 681., 695., 722., 731., 752., 765., 766., 778., 780.,\n",
       "       802., 808., 811., 820., 828.])"
      ]
     },
     "execution_count": 35,
     "metadata": {},
     "output_type": "execute_result"
    }
   ],
   "source": [
    "modulated_cl = r[r[:,2] < 0.01]\n",
    "modulated_cl[:,0]"
   ]
  },
  {
   "cell_type": "code",
   "execution_count": null,
   "id": "dimensional-showcase",
   "metadata": {},
   "outputs": [],
   "source": []
  }
 ],
 "metadata": {
  "kernelspec": {
   "display_name": "Python 3",
   "language": "python",
   "name": "python3"
  },
  "language_info": {
   "codemirror_mode": {
    "name": "ipython",
    "version": 3
   },
   "file_extension": ".py",
   "mimetype": "text/x-python",
   "name": "python",
   "nbconvert_exporter": "python",
   "pygments_lexer": "ipython3",
   "version": "3.7.10"
  }
 },
 "nbformat": 4,
 "nbformat_minor": 5
}
