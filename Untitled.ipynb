{
 "cells": [
  {
   "cell_type": "code",
   "execution_count": 21,
   "id": "green-radius",
   "metadata": {},
   "outputs": [],
   "source": [
    "from functions import position_load\n",
    "from functions import loading\n",
    "from functions import time_alignment\n",
    "import numpy as np\n",
    "from pathlib import Path"
   ]
  },
  {
   "cell_type": "code",
   "execution_count": 2,
   "id": "involved-budapest",
   "metadata": {},
   "outputs": [
    {
     "name": "stdout",
     "output_type": "stream",
     "text": [
      "(-595.0555725512747, 0.00046972608032747276)\n"
     ]
    }
   ],
   "source": [
    "pathn = Path('/mnt/fk-fileserver/Project_LS/LS_k_8/110220/Neuralynx_data/2021-02-11_12-35-54/DLC/Events.nev')\n",
    "pathg = Path('/mnt/fk-fileserver/Project_LS/LS_k_8/110220/110221_g0/110221_g0_imec0/110221_g0_t0.imec0.lf.bin')\n",
    "align_f = Path('time_offset.h5')\n",
    "\n",
    "ta = time_alignment.align_time(align_file=align_f, pathnlx=pathn, pathglx=pathg)"
   ]
  },
  {
   "cell_type": "code",
   "execution_count": 22,
   "id": "statistical-charity",
   "metadata": {},
   "outputs": [],
   "source": [
    "from fklab.spikes.Kilosort.utilities_kilosort import KiloSortResult\n",
    "\n",
    "ks = KiloSortResult('/mnt/fk-fileserver/Project_LS/LS_k_8/110220/110221_g0/110221_g0_imec0/catgt_110221_g0/params.py') # load kilosort result\n",
    "cluster_ids = ks.get_good_cluster_group() \n",
    "#cluster_ids_LS = [i for i in cluster_ids if i < 471]\n",
    "spike_t = {}\n",
    "for cl in cluster_ids:\n",
    "    spike_t[cl] = ta.time_map('nlx', ks.time_sec(ks.get_spike_time(ks.get_spike_for_cluster(cl))))\n",
    "    spike_t[cl] = spike_t[cl][~np.isnan(spike_t[cl])]"
   ]
  },
  {
   "cell_type": "code",
   "execution_count": 3,
   "id": "juvenile-brother",
   "metadata": {},
   "outputs": [],
   "source": [
    "path = ('/mnt/fk-fileserver/Project_LS/LS_k_8/110220/Neuralynx_data/2021-02-11_12-35-54/DLC/epochs/training/position.hdf5')\n"
   ]
  },
  {
   "cell_type": "code",
   "execution_count": 4,
   "id": "signal-survivor",
   "metadata": {},
   "outputs": [],
   "source": [
    "position_at, xy, x, y, position_time = position_load.load_pos(epoch=[613,2300], path=path)\n"
   ]
  },
  {
   "cell_type": "code",
   "execution_count": 5,
   "id": "sixth-reference",
   "metadata": {},
   "outputs": [],
   "source": [
    "from functions import load_maze \n",
    "path=('/mnt/fk-fileserver/Project_LS/LS_k_8/110220/Neuralynx_data/2021-02-11_12-35-54/DLC/epochs/training/environment.yaml')\n",
    "load_maze.load_environment_yaml(path)"
   ]
  },
  {
   "cell_type": "code",
   "execution_count": 6,
   "id": "suburban-press",
   "metadata": {},
   "outputs": [],
   "source": [
    "RR, LR, HR, CP, w_CP = load_maze.maze()"
   ]
  },
  {
   "cell_type": "code",
   "execution_count": 7,
   "id": "tracked-conversation",
   "metadata": {},
   "outputs": [
    {
     "data": {
      "image/png": "[encoded data removed]",
      "text/plain": [
       "<Figure size 432x288 with 1 Axes>"
      ]
     },
     "metadata": {
      "needs_background": "light"
     },
     "output_type": "display_data"
    }
   ],
   "source": [
    "load_maze.plot_maze(RR, LR, HR, CP, w_CP)"
   ]
  },
  {
   "cell_type": "code",
   "execution_count": 13,
   "id": "meaningful-position",
   "metadata": {},
   "outputs": [],
   "source": [
    "from functions import create_segments\n",
    "outbound, _,_  = create_segments.create_segments(position_time, xy, RR, LR, HR, CP, w_CP)"
   ]
  },
  {
   "cell_type": "code",
   "execution_count": 18,
   "id": "revised-portrait",
   "metadata": {},
   "outputs": [],
   "source": [
    "from fklab.behavior.task_analysis import detect_trajectories\n",
    "\n",
    "outbound_right = detect_trajectories(position_time, xy, include_regions=[HR,CP,RR], exclude_regions=[LR], ordered=True, revisit=False)\n",
    "outbound_left = detect_trajectories(position_time, xy, include_regions= [HR, CP,LR], exclude_regions=[RR], ordered=True, revisit=True)\n",
    "inbound_right = detect_trajectories(position_time, xy, include_regions= [RR, CP,HR], ordered=True, revisit=True)\n",
    "inbound_left = detect_trajectories(position_time, xy, include_regions= [LR, CP,HR], ordered=True, revisit=True)\n",
    "choice = detect_trajectories(position_time, xy, include_regions= [HR,CP], ordered=True, revisit=True)\n",
    "outbound=outbound_right.union(outbound_left)\n",
    "inbound=inbound_right.union(inbound_left)\n",
    "out_in = outbound.union(inbound)\n",
    "right=detect_trajectories(position_time, xy, include_regions=[CP,RR], exclude_regions=[LR], ordered=True, revisit=False)\n",
    "left=detect_trajectories(position_time, xy, include_regions=[CP,LR], exclude_regions=[LR], ordered=True, revisit=False)\n",
    "right_in=detect_trajectories(position_time, xy, include_regions=[RR,CP], exclude_regions=[LR], ordered=True, revisit=False)\n",
    "left_in=detect_trajectories(position_time, xy, include_regions=[LR,CP], exclude_regions=[RR], ordered=True, revisit=False)"
   ]
  },
  {
   "cell_type": "code",
   "execution_count": null,
   "id": "authentic-plane",
   "metadata": {},
   "outputs": [],
   "source": [
    "from functions import theta_modulation\n",
    "import fklab\n",
    "\n",
    "results_mod = {}\n",
    "nshuffles = 500\n",
    "for cl in cluster_ids:\n",
    "    spikes = spike_t[cl]\n",
    "    psd, f, tpower, totpower, mod = theta_modulation.theta_modulation(spikes, segments=outbound)\n",
    "    \n",
    "    shuffled_results=[]\n",
    "    for n in range(nshuffles):\n",
    "        shuffle_t = theta_modulation.shuffle_spike_train(spikes)\n",
    "        shuffled_results.append(theta_modulation.theta_modulation(shuffle_t, segments=out_in))\n",
    "        \n",
    "        shuffled_power = np.array([x for _,_,_,_, x in shuffled_results])\n",
    "    \n",
    "        p = fklab.statistics.core.monte_carlo_pvalue(shuffled_power, mod)\n",
    "    \n",
    "    results_mod[cl] = {'modulation': mod, 'shuffles': shuffled_results, 'pvalue': p}"
   ]
  },
  {
   "cell_type": "code",
   "execution_count": null,
   "id": "concrete-spring",
   "metadata": {},
   "outputs": [],
   "source": []
  }
 ],
 "metadata": {
  "kernelspec": {
   "display_name": "Python 3",
   "language": "python",
   "name": "python3"
  },
  "language_info": {
   "codemirror_mode": {
    "name": "ipython",
    "version": 3
   },
   "file_extension": ".py",
   "mimetype": "text/x-python",
   "name": "python",
   "nbconvert_exporter": "python",
   "pygments_lexer": "ipython3",
   "version": "3.7.10"
  }
 },
 "nbformat": 4,
 "nbformat_minor": 5
}
