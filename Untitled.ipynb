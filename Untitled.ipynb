{
 "cells": [
  {
   "cell_type": "code",
   "execution_count": 1,
   "id": "green-radius",
   "metadata": {},
   "outputs": [],
   "source": [
    "from functions import position_load\n",
    "from functions import loading\n",
    "from functions import time_alignment\n",
    "import numpy as np\n",
    "from pathlib import Path"
   ]
  },
  {
   "cell_type": "code",
   "execution_count": 2,
   "id": "involved-budapest",
   "metadata": {},
   "outputs": [
    {
     "name": "stdout",
     "output_type": "stream",
     "text": [
      "(-595.0555725512747, 0.00046972608032747276)\n"
     ]
    }
   ],
   "source": [
    "pathn = Path('/mnt/fk-fileserver/Project_LS/LS_k_8/110220/Neuralynx_data/2021-02-11_12-35-54/DLC/Events.nev')\n",
    "pathg = Path('/mnt/fk-fileserver/Project_LS/LS_k_8/110220/110221_g0/110221_g0_imec0/110221_g0_t0.imec0.lf.bin')\n",
    "align_f = Path('time_offset.h5')\n",
    "\n",
    "ta = time_alignment.align_time(align_file=align_f, pathnlx=pathn, pathglx=pathg)"
   ]
  },
  {
   "cell_type": "code",
   "execution_count": 3,
   "id": "worldwide-basket",
   "metadata": {},
   "outputs": [],
   "source": [
    "from fklab.spikes.Kilosort.utilities_kilosort import KiloSortResult\n",
    "\n",
    "ks = KiloSortResult('/mnt/fk-fileserver/Project_LS/LS_k_8/110220/110221_g0/110221_g0_imec0/catgt_110221_g0/params.py') # load kilosort result\n",
    "cluster_ids = ks.get_good_cluster_group() \n",
    "#cluster_ids_LS = [i for i in cluster_ids if i < 471]\n",
    "spike_t = {}\n",
    "for cl in cluster_ids:\n",
    "    spike_t[cl] = ta.time_map('nlx', ks.time_sec(ks.get_spike_time(ks.get_spike_for_cluster(cl))))\n",
    "    spike_t[cl] = spike_t[cl][~np.isnan(spike_t[cl])]"
   ]
  },
  {
   "cell_type": "code",
   "execution_count": 1,
   "id": "fossil-finder",
   "metadata": {},
   "outputs": [],
   "source": [
    "from functions import summary_table as st\n",
    "\n",
    "path_cl = ('/mnt/fk-fileserver/Project_LS/LS_k_13/AT/300621_g0/300621_g0_imec0/cat')\n",
    "table = st.load_cluster(path=path_cl)\n",
    "#st.plot_spikes_depth(table, color='r')\n"
   ]
  },
  {
   "cell_type": "code",
   "execution_count": 2,
   "id": "formed-exhibition",
   "metadata": {},
   "outputs": [],
   "source": [
    "main_path = '/mnt/fk-fileserver/Project_LS'\n",
    "rat_ID = \"LS_k_13\"\n",
    "task='AT'\n",
    "session = '300621_g0'\n",
    "st.save_summary_table(main_path = main_path, rat_ID = rat_ID, task=task, session=session, summary_clusters=table)"
   ]
  },
  {
   "cell_type": "code",
   "execution_count": 9,
   "id": "monthly-coupon",
   "metadata": {},
   "outputs": [],
   "source": [
    "import pandas as pd\n",
    "save_path = str(main_path) + '/' + str(rat_ID) + '/' + str(task) + '/' + str(session) + '/'\n",
    "summary_table = pd.read_hdf(save_path + 'summary_clusters.h5', key='summary_clusters')"
   ]
  },
  {
   "cell_type": "code",
   "execution_count": 3,
   "id": "associate-omega",
   "metadata": {},
   "outputs": [],
   "source": [
    "summary_table = st.read_summary_table(main_path = main_path, rat_ID = rat_ID, task=task, session=session)"
   ]
  },
  {
   "cell_type": "code",
   "execution_count": 4,
   "id": "unavailable-bread",
   "metadata": {},
   "outputs": [
    {
     "data": {
      "text/html": [
       "<div>\n",
       "<style scoped>\n",
       "    .dataframe tbody tr th:only-of-type {\n",
       "        vertical-align: middle;\n",
       "    }\n",
       "\n",
       "    .dataframe tbody tr th {\n",
       "        vertical-align: top;\n",
       "    }\n",
       "\n",
       "    .dataframe thead th {\n",
       "        text-align: right;\n",
       "    }\n",
       "</style>\n",
       "<table border=\"1\" class=\"dataframe\">\n",
       "  <thead>\n",
       "    <tr style=\"text-align: right;\">\n",
       "      <th></th>\n",
       "      <th>cluster_ids</th>\n",
       "      <th>channels</th>\n",
       "      <th>depth</th>\n",
       "      <th>n_spikes</th>\n",
       "      <th>firing_rate</th>\n",
       "    </tr>\n",
       "  </thead>\n",
       "  <tbody>\n",
       "    <tr>\n",
       "      <th>0</th>\n",
       "      <td>22</td>\n",
       "      <td>31</td>\n",
       "      <td>320.0</td>\n",
       "      <td>39928</td>\n",
       "      <td>19.917166</td>\n",
       "    </tr>\n",
       "    <tr>\n",
       "      <th>1</th>\n",
       "      <td>24</td>\n",
       "      <td>33</td>\n",
       "      <td>340.0</td>\n",
       "      <td>43471</td>\n",
       "      <td>21.684510</td>\n",
       "    </tr>\n",
       "    <tr>\n",
       "      <th>2</th>\n",
       "      <td>25</td>\n",
       "      <td>30</td>\n",
       "      <td>320.0</td>\n",
       "      <td>24262</td>\n",
       "      <td>12.102541</td>\n",
       "    </tr>\n",
       "    <tr>\n",
       "      <th>3</th>\n",
       "      <td>30</td>\n",
       "      <td>39</td>\n",
       "      <td>400.0</td>\n",
       "      <td>18183</td>\n",
       "      <td>9.070172</td>\n",
       "    </tr>\n",
       "    <tr>\n",
       "      <th>4</th>\n",
       "      <td>31</td>\n",
       "      <td>41</td>\n",
       "      <td>420.0</td>\n",
       "      <td>40984</td>\n",
       "      <td>20.443927</td>\n",
       "    </tr>\n",
       "    <tr>\n",
       "      <th>...</th>\n",
       "      <td>...</td>\n",
       "      <td>...</td>\n",
       "      <td>...</td>\n",
       "      <td>...</td>\n",
       "      <td>...</td>\n",
       "    </tr>\n",
       "    <tr>\n",
       "      <th>139</th>\n",
       "      <td>607</td>\n",
       "      <td>251</td>\n",
       "      <td>2540.0</td>\n",
       "      <td>2802</td>\n",
       "      <td>1.397713</td>\n",
       "    </tr>\n",
       "    <tr>\n",
       "      <th>140</th>\n",
       "      <td>611</td>\n",
       "      <td>256</td>\n",
       "      <td>2580.0</td>\n",
       "      <td>2909</td>\n",
       "      <td>1.451088</td>\n",
       "    </tr>\n",
       "    <tr>\n",
       "      <th>141</th>\n",
       "      <td>703</td>\n",
       "      <td>180</td>\n",
       "      <td>1820.0</td>\n",
       "      <td>476</td>\n",
       "      <td>0.237442</td>\n",
       "    </tr>\n",
       "    <tr>\n",
       "      <th>142</th>\n",
       "      <td>704</td>\n",
       "      <td>204</td>\n",
       "      <td>2060.0</td>\n",
       "      <td>3857</td>\n",
       "      <td>1.923976</td>\n",
       "    </tr>\n",
       "    <tr>\n",
       "      <th>143</th>\n",
       "      <td>707</td>\n",
       "      <td>216</td>\n",
       "      <td>2180.0</td>\n",
       "      <td>840</td>\n",
       "      <td>0.419015</td>\n",
       "    </tr>\n",
       "  </tbody>\n",
       "</table>\n",
       "<p>144 rows × 5 columns</p>\n",
       "</div>"
      ],
      "text/plain": [
       "     cluster_ids  channels   depth  n_spikes  firing_rate\n",
       "0             22        31   320.0     39928    19.917166\n",
       "1             24        33   340.0     43471    21.684510\n",
       "2             25        30   320.0     24262    12.102541\n",
       "3             30        39   400.0     18183     9.070172\n",
       "4             31        41   420.0     40984    20.443927\n",
       "..           ...       ...     ...       ...          ...\n",
       "139          607       251  2540.0      2802     1.397713\n",
       "140          611       256  2580.0      2909     1.451088\n",
       "141          703       180  1820.0       476     0.237442\n",
       "142          704       204  2060.0      3857     1.923976\n",
       "143          707       216  2180.0       840     0.419015\n",
       "\n",
       "[144 rows x 5 columns]"
      ]
     },
     "execution_count": 4,
     "metadata": {},
     "output_type": "execute_result"
    }
   ],
   "source": [
    "summary_table"
   ]
  },
  {
   "cell_type": "code",
   "execution_count": 2,
   "id": "christian-spring",
   "metadata": {},
   "outputs": [],
   "source": [
    "lateral_septum, SHi, LSI, SFi, MS = st.spikes_LS(rat_ID='LS_k_9', summary_clusters = table)\n"
   ]
  },
  {
   "cell_type": "code",
   "execution_count": 12,
   "id": "fatal-bicycle",
   "metadata": {},
   "outputs": [],
   "source": [
    "from pathlib import Path\n",
    "import pandas as pd\n",
    "my_path = Path('/mnt/fk-fileserver/Project_LS/LS_k_13/300621_g0/summary_clusters')\n",
    "with my_path.open('wb') as fp:\n",
    "    table.to_hdf('summary_clusters.h5', key='summary_clusters', mode='w')"
   ]
  },
  {
   "cell_type": "code",
   "execution_count": 13,
   "id": "plastic-brass",
   "metadata": {},
   "outputs": [],
   "source": [
    "my_path = Path('/mnt/fk-fileserver/Project_LS/LS_k_13/300621_g0/summary_clusters')\n",
    "with my_path.open('rb') as fp:\n",
    "    table1 = pd.read_hdf('summary_clusters.h5', 'summary_clusters')\n"
   ]
  },
  {
   "cell_type": "code",
   "execution_count": 14,
   "id": "antique-judges",
   "metadata": {},
   "outputs": [
    {
     "data": {
      "text/html": [
       "<div>\n",
       "<style scoped>\n",
       "    .dataframe tbody tr th:only-of-type {\n",
       "        vertical-align: middle;\n",
       "    }\n",
       "\n",
       "    .dataframe tbody tr th {\n",
       "        vertical-align: top;\n",
       "    }\n",
       "\n",
       "    .dataframe thead th {\n",
       "        text-align: right;\n",
       "    }\n",
       "</style>\n",
       "<table border=\"1\" class=\"dataframe\">\n",
       "  <thead>\n",
       "    <tr style=\"text-align: right;\">\n",
       "      <th></th>\n",
       "      <th>cluster_ids</th>\n",
       "      <th>channels</th>\n",
       "      <th>depth</th>\n",
       "      <th>n_spikes</th>\n",
       "      <th>firing_rate</th>\n",
       "    </tr>\n",
       "  </thead>\n",
       "  <tbody>\n",
       "    <tr>\n",
       "      <th>0</th>\n",
       "      <td>22</td>\n",
       "      <td>31</td>\n",
       "      <td>320.0</td>\n",
       "      <td>39928</td>\n",
       "      <td>19.917166</td>\n",
       "    </tr>\n",
       "    <tr>\n",
       "      <th>1</th>\n",
       "      <td>24</td>\n",
       "      <td>33</td>\n",
       "      <td>340.0</td>\n",
       "      <td>43471</td>\n",
       "      <td>21.684510</td>\n",
       "    </tr>\n",
       "    <tr>\n",
       "      <th>2</th>\n",
       "      <td>25</td>\n",
       "      <td>30</td>\n",
       "      <td>320.0</td>\n",
       "      <td>24262</td>\n",
       "      <td>12.102541</td>\n",
       "    </tr>\n",
       "    <tr>\n",
       "      <th>3</th>\n",
       "      <td>30</td>\n",
       "      <td>39</td>\n",
       "      <td>400.0</td>\n",
       "      <td>18183</td>\n",
       "      <td>9.070172</td>\n",
       "    </tr>\n",
       "    <tr>\n",
       "      <th>4</th>\n",
       "      <td>31</td>\n",
       "      <td>41</td>\n",
       "      <td>420.0</td>\n",
       "      <td>40984</td>\n",
       "      <td>20.443927</td>\n",
       "    </tr>\n",
       "    <tr>\n",
       "      <th>...</th>\n",
       "      <td>...</td>\n",
       "      <td>...</td>\n",
       "      <td>...</td>\n",
       "      <td>...</td>\n",
       "      <td>...</td>\n",
       "    </tr>\n",
       "    <tr>\n",
       "      <th>139</th>\n",
       "      <td>607</td>\n",
       "      <td>251</td>\n",
       "      <td>2540.0</td>\n",
       "      <td>2802</td>\n",
       "      <td>1.397713</td>\n",
       "    </tr>\n",
       "    <tr>\n",
       "      <th>140</th>\n",
       "      <td>611</td>\n",
       "      <td>256</td>\n",
       "      <td>2580.0</td>\n",
       "      <td>2909</td>\n",
       "      <td>1.451088</td>\n",
       "    </tr>\n",
       "    <tr>\n",
       "      <th>141</th>\n",
       "      <td>703</td>\n",
       "      <td>180</td>\n",
       "      <td>1820.0</td>\n",
       "      <td>476</td>\n",
       "      <td>0.237442</td>\n",
       "    </tr>\n",
       "    <tr>\n",
       "      <th>142</th>\n",
       "      <td>704</td>\n",
       "      <td>204</td>\n",
       "      <td>2060.0</td>\n",
       "      <td>3857</td>\n",
       "      <td>1.923976</td>\n",
       "    </tr>\n",
       "    <tr>\n",
       "      <th>143</th>\n",
       "      <td>707</td>\n",
       "      <td>216</td>\n",
       "      <td>2180.0</td>\n",
       "      <td>840</td>\n",
       "      <td>0.419015</td>\n",
       "    </tr>\n",
       "  </tbody>\n",
       "</table>\n",
       "<p>144 rows × 5 columns</p>\n",
       "</div>"
      ],
      "text/plain": [
       "     cluster_ids  channels   depth  n_spikes  firing_rate\n",
       "0             22        31   320.0     39928    19.917166\n",
       "1             24        33   340.0     43471    21.684510\n",
       "2             25        30   320.0     24262    12.102541\n",
       "3             30        39   400.0     18183     9.070172\n",
       "4             31        41   420.0     40984    20.443927\n",
       "..           ...       ...     ...       ...          ...\n",
       "139          607       251  2540.0      2802     1.397713\n",
       "140          611       256  2580.0      2909     1.451088\n",
       "141          703       180  1820.0       476     0.237442\n",
       "142          704       204  2060.0      3857     1.923976\n",
       "143          707       216  2180.0       840     0.419015\n",
       "\n",
       "[144 rows x 5 columns]"
      ]
     },
     "execution_count": 14,
     "metadata": {},
     "output_type": "execute_result"
    }
   ],
   "source": [
    "table1"
   ]
  },
  {
   "cell_type": "code",
   "execution_count": 5,
   "id": "sustainable-police",
   "metadata": {},
   "outputs": [],
   "source": [
    "LSV = lateral_septum[(lateral_septum['depth'] < min(LSI['depth'])) \n",
    "                            & (lateral_septum['depth'] >= min(LSI['depth']) - 600)] "
   ]
  },
  {
   "cell_type": "code",
   "execution_count": 15,
   "id": "willing-medium",
   "metadata": {},
   "outputs": [],
   "source": [
    "LSV = lateral_septum[(lateral_septum['depth'] < min(LSI['depth'])) \n",
    "                            & (lateral_septum['depth'] >= min(LSI['depth']) - 600)]"
   ]
  },
  {
   "cell_type": "code",
   "execution_count": 19,
   "id": "surface-precipitation",
   "metadata": {},
   "outputs": [
    {
     "data": {
      "text/plain": [
       "700.0"
      ]
     },
     "execution_count": 19,
     "metadata": {},
     "output_type": "execute_result"
    }
   ],
   "source": [
    "min(lateral_septum['depth'])"
   ]
  },
  {
   "cell_type": "code",
   "execution_count": 9,
   "id": "juvenile-brother",
   "metadata": {},
   "outputs": [],
   "source": [
    "path_pos = ('/mnt/fk-fileserver/Project_LS/LS_k_8/110220/Neuralynx_data/2021-02-11_12-35-54/DLC/epochs/training/position.hdf5')\n"
   ]
  },
  {
   "cell_type": "code",
   "execution_count": 10,
   "id": "signal-survivor",
   "metadata": {},
   "outputs": [
    {
     "ename": "NameError",
     "evalue": "name 'position_load' is not defined",
     "output_type": "error",
     "traceback": [
      "\u001b[0;31m---------------------------------------------------------------------------\u001b[0m",
      "\u001b[0;31mNameError\u001b[0m                                 Traceback (most recent call last)",
      "\u001b[0;32m<ipython-input-10-c0e9694289a5>\u001b[0m in \u001b[0;36m<module>\u001b[0;34m\u001b[0m\n\u001b[0;32m----> 1\u001b[0;31m \u001b[0mposition_at\u001b[0m\u001b[0;34m,\u001b[0m \u001b[0mxy\u001b[0m\u001b[0;34m,\u001b[0m \u001b[0mx\u001b[0m\u001b[0;34m,\u001b[0m \u001b[0my\u001b[0m\u001b[0;34m,\u001b[0m \u001b[0mposition_time\u001b[0m \u001b[0;34m=\u001b[0m \u001b[0mposition_load\u001b[0m\u001b[0;34m.\u001b[0m\u001b[0mload_pos\u001b[0m\u001b[0;34m(\u001b[0m\u001b[0mepoch\u001b[0m\u001b[0;34m=\u001b[0m\u001b[0;34m[\u001b[0m\u001b[0;36m613\u001b[0m\u001b[0;34m,\u001b[0m\u001b[0;36m2300\u001b[0m\u001b[0;34m]\u001b[0m\u001b[0;34m,\u001b[0m \u001b[0mpath\u001b[0m\u001b[0;34m=\u001b[0m\u001b[0mpath_pos\u001b[0m\u001b[0;34m)\u001b[0m\u001b[0;34m\u001b[0m\u001b[0;34m\u001b[0m\u001b[0m\n\u001b[0m",
      "\u001b[0;31mNameError\u001b[0m: name 'position_load' is not defined"
     ]
    }
   ],
   "source": [
    "position_at, xy, x, y, position_time = position_load.load_pos(epoch=[613,2300], path=path_pos)\n"
   ]
  },
  {
   "cell_type": "code",
   "execution_count": null,
   "id": "sixth-reference",
   "metadata": {},
   "outputs": [],
   "source": [
    "from functions import load_maze \n",
    "path=('/mnt/fk-fileserver/Project_LS/LS_k_8/110220/Neuralynx_data/2021-02-11_12-35-54/DLC/epochs/training/environment.yaml')\n",
    "load_maze.load_environment_yaml(path)"
   ]
  },
  {
   "cell_type": "code",
   "execution_count": 11,
   "id": "suburban-press",
   "metadata": {},
   "outputs": [
    {
     "ename": "NameError",
     "evalue": "name 'load_maze' is not defined",
     "output_type": "error",
     "traceback": [
      "\u001b[0;31m---------------------------------------------------------------------------\u001b[0m",
      "\u001b[0;31mNameError\u001b[0m                                 Traceback (most recent call last)",
      "\u001b[0;32m<ipython-input-11-318e7109a397>\u001b[0m in \u001b[0;36m<module>\u001b[0;34m\u001b[0m\n\u001b[0;32m----> 1\u001b[0;31m \u001b[0mRR\u001b[0m\u001b[0;34m,\u001b[0m \u001b[0mLR\u001b[0m\u001b[0;34m,\u001b[0m \u001b[0mHR\u001b[0m\u001b[0;34m,\u001b[0m \u001b[0mCP\u001b[0m\u001b[0;34m,\u001b[0m \u001b[0mw_CP\u001b[0m \u001b[0;34m=\u001b[0m \u001b[0mload_maze\u001b[0m\u001b[0;34m.\u001b[0m\u001b[0mmaze\u001b[0m\u001b[0;34m(\u001b[0m\u001b[0;34m)\u001b[0m\u001b[0;34m\u001b[0m\u001b[0;34m\u001b[0m\u001b[0m\n\u001b[0m",
      "\u001b[0;31mNameError\u001b[0m: name 'load_maze' is not defined"
     ]
    }
   ],
   "source": [
    "RR, LR, HR, CP, w_CP = load_maze.maze()"
   ]
  },
  {
   "cell_type": "code",
   "execution_count": null,
   "id": "tracked-conversation",
   "metadata": {},
   "outputs": [],
   "source": [
    "load_maze.plot_maze(RR, LR, HR, CP, w_CP)"
   ]
  },
  {
   "cell_type": "code",
   "execution_count": 12,
   "id": "meaningful-position",
   "metadata": {},
   "outputs": [
    {
     "ename": "NameError",
     "evalue": "name 'position_time' is not defined",
     "output_type": "error",
     "traceback": [
      "\u001b[0;31m---------------------------------------------------------------------------\u001b[0m",
      "\u001b[0;31mNameError\u001b[0m                                 Traceback (most recent call last)",
      "\u001b[0;32m<ipython-input-12-28f74550c6bb>\u001b[0m in \u001b[0;36m<module>\u001b[0;34m\u001b[0m\n\u001b[1;32m      1\u001b[0m \u001b[0;32mfrom\u001b[0m \u001b[0mfunctions\u001b[0m \u001b[0;32mimport\u001b[0m \u001b[0mcreate_segments\u001b[0m\u001b[0;34m\u001b[0m\u001b[0;34m\u001b[0m\u001b[0m\n\u001b[0;32m----> 2\u001b[0;31m \u001b[0moutbound\u001b[0m\u001b[0;34m,\u001b[0m \u001b[0m_\u001b[0m\u001b[0;34m,\u001b[0m\u001b[0m_\u001b[0m  \u001b[0;34m=\u001b[0m \u001b[0mcreate_segments\u001b[0m\u001b[0;34m.\u001b[0m\u001b[0mcreate_segments\u001b[0m\u001b[0;34m(\u001b[0m\u001b[0mposition_time\u001b[0m\u001b[0;34m,\u001b[0m \u001b[0mxy\u001b[0m\u001b[0;34m,\u001b[0m \u001b[0mRR\u001b[0m\u001b[0;34m,\u001b[0m \u001b[0mLR\u001b[0m\u001b[0;34m,\u001b[0m \u001b[0mHR\u001b[0m\u001b[0;34m,\u001b[0m \u001b[0mCP\u001b[0m\u001b[0;34m,\u001b[0m \u001b[0mw_CP\u001b[0m\u001b[0;34m)\u001b[0m\u001b[0;34m\u001b[0m\u001b[0;34m\u001b[0m\u001b[0m\n\u001b[0m",
      "\u001b[0;31mNameError\u001b[0m: name 'position_time' is not defined"
     ]
    }
   ],
   "source": [
    "from functions import create_segments\n",
    "outbound, _,_  = create_segments.create_segments(position_time, xy, RR, LR, HR, CP, w_CP)"
   ]
  },
  {
   "cell_type": "code",
   "execution_count": null,
   "id": "revised-portrait",
   "metadata": {},
   "outputs": [],
   "source": [
    "from fklab.behavior.task_analysis import detect_trajectories\n",
    "\n",
    "outbound_right = detect_trajectories(position_time, xy, include_regions=[HR,CP,RR], exclude_regions=[LR], ordered=True, revisit=False)\n",
    "outbound_left = detect_trajectories(position_time, xy, include_regions= [HR, CP,LR], exclude_regions=[RR], ordered=True, revisit=True)\n",
    "inbound_right = detect_trajectories(position_time, xy, include_regions= [RR, CP,HR], ordered=True, revisit=True)\n",
    "inbound_left = detect_trajectories(position_time, xy, include_regions= [LR, CP,HR], ordered=True, revisit=True)\n",
    "choice = detect_trajectories(position_time, xy, include_regions= [HR,CP], ordered=True, revisit=True)\n",
    "outbound=outbound_right.union(outbound_left)\n",
    "inbound=inbound_right.union(inbound_left)\n",
    "out_in = outbound.union(inbound)\n",
    "right=detect_trajectories(position_time, xy, include_regions=[CP,RR], exclude_regions=[LR], ordered=True, revisit=False)\n",
    "left=detect_trajectories(position_time, xy, include_regions=[CP,LR], exclude_regions=[LR], ordered=True, revisit=False)\n",
    "right_in=detect_trajectories(position_time, xy, include_regions=[RR,CP], exclude_regions=[LR], ordered=True, revisit=False)\n",
    "left_in=detect_trajectories(position_time, xy, include_regions=[LR,CP], exclude_regions=[RR], ordered=True, revisit=False)"
   ]
  },
  {
   "cell_type": "code",
   "execution_count": 13,
   "id": "recorded-password",
   "metadata": {},
   "outputs": [
    {
     "ename": "NameError",
     "evalue": "name 'cluster_ids' is not defined",
     "output_type": "error",
     "traceback": [
      "\u001b[0;31m---------------------------------------------------------------------------\u001b[0m",
      "\u001b[0;31mNameError\u001b[0m                                 Traceback (most recent call last)",
      "\u001b[0;32m<ipython-input-13-3ec209b361f0>\u001b[0m in \u001b[0;36m<module>\u001b[0;34m\u001b[0m\n\u001b[1;32m      8\u001b[0m \u001b[0mresults_mod\u001b[0m \u001b[0;34m=\u001b[0m \u001b[0;34m{\u001b[0m\u001b[0;34m}\u001b[0m\u001b[0;34m\u001b[0m\u001b[0;34m\u001b[0m\u001b[0m\n\u001b[1;32m      9\u001b[0m \u001b[0mnshuffles\u001b[0m \u001b[0;34m=\u001b[0m \u001b[0;36m500\u001b[0m\u001b[0;34m\u001b[0m\u001b[0;34m\u001b[0m\u001b[0m\n\u001b[0;32m---> 10\u001b[0;31m \u001b[0;32mfor\u001b[0m \u001b[0mcl\u001b[0m \u001b[0;32min\u001b[0m \u001b[0mcluster_ids\u001b[0m\u001b[0;34m:\u001b[0m\u001b[0;34m\u001b[0m\u001b[0;34m\u001b[0m\u001b[0m\n\u001b[0m\u001b[1;32m     11\u001b[0m     \u001b[0mspikes\u001b[0m \u001b[0;34m=\u001b[0m \u001b[0mspike_t\u001b[0m\u001b[0;34m[\u001b[0m\u001b[0mcl\u001b[0m\u001b[0;34m]\u001b[0m\u001b[0;34m\u001b[0m\u001b[0;34m\u001b[0m\u001b[0m\n\u001b[1;32m     12\u001b[0m     \u001b[0mpsd\u001b[0m\u001b[0;34m,\u001b[0m \u001b[0mf\u001b[0m\u001b[0;34m,\u001b[0m \u001b[0mtpower\u001b[0m\u001b[0;34m,\u001b[0m \u001b[0mtotpower\u001b[0m\u001b[0;34m,\u001b[0m \u001b[0mmod\u001b[0m \u001b[0;34m=\u001b[0m \u001b[0mtheta_modulation\u001b[0m\u001b[0;34m.\u001b[0m\u001b[0mtheta_modulation\u001b[0m\u001b[0;34m(\u001b[0m\u001b[0mspikes\u001b[0m\u001b[0;34m,\u001b[0m \u001b[0msegments\u001b[0m\u001b[0;34m=\u001b[0m\u001b[0moutbound\u001b[0m\u001b[0;34m)\u001b[0m\u001b[0;34m\u001b[0m\u001b[0;34m\u001b[0m\u001b[0m\n",
      "\u001b[0;31mNameError\u001b[0m: name 'cluster_ids' is not defined"
     ]
    }
   ],
   "source": [
    "from functions import theta_modulation\n",
    "\n",
    "results_mod = {}\n",
    "nshuffles = 500\n",
    "for cl in cluster_ids:\n",
    "    spikes = spike_t[cl]\n",
    "    psd, f, tpower, totpower, mod = theta_modulation.theta_modulation(spikes, segments=outbound)\n",
    "    \n",
    "    shuffled_results=[]\n",
    "    for n in range(nshuffles):\n",
    "        shuffle_t = theta_modulation.shuffle_spike_train(spikes)\n",
    "        shuffled_results.append(theta_modulation.theta_modulation(shuffle_t, segments=out_in))\n",
    "        \n",
    "        shuffled_power = np.array([x for _,_,_,_, x in shuffled_results])\n",
    "    \n",
    "        p = fklab.statistics.core.monte_carlo_pvalue(shuffled_power, mod)\n",
    "    \n",
    "    results_mod[cl] = {'modulation': mod, 'shuffles': shuffled_results, 'pvalue': p}"
   ]
  },
  {
   "cell_type": "code",
   "execution_count": 32,
   "id": "primary-adapter",
   "metadata": {},
   "outputs": [
    {
     "data": {
      "image/png": "[encoded data removed]",
      "text/plain": [
       "<Figure size 432x288 with 1 Axes>"
      ]
     },
     "metadata": {
      "needs_background": "light"
     },
     "output_type": "display_data"
    }
   ],
   "source": [
    "import matplotlib.pyplot as plt\n",
    "\n",
    "theta_modulation = np.array([k['modulation'] for k in results_mod.values()])\n",
    "mod_p = np.array([k['pvalue'] for k in results_mod.values()])\n",
    "\n",
    "fig, ax = plt.subplots(1,1, figsize=(6,4))\n",
    "ax.hist([theta_modulation[mod_p>=0.01], theta_modulation[mod_p<0.01]], bins=np.linspace(-1,1,20), stacked=True, \n",
    "        color=['lightgray','black'], label=['n.s.', 'p<0.01'])\n",
    "ax.legend()\n",
    "ax.set(title=\"{:.0f}% significant\".format(100*np.mean(mod_p<0.01)), xlabel=\"theta_modulation_index\");"
   ]
  },
  {
   "cell_type": "code",
   "execution_count": 33,
   "id": "decent-mason",
   "metadata": {},
   "outputs": [],
   "source": [
    "t_mod = r = np.array([[cl, k['modulation'], k['pvalue']] for cl,k in results_mod.items()])"
   ]
  },
  {
   "cell_type": "code",
   "execution_count": 35,
   "id": "central-cornwall",
   "metadata": {},
   "outputs": [
    {
     "data": {
      "text/plain": [
       "array([ 42.,  59.,  66.,  70.,  77.,  84.,  89.,  97., 100., 123., 126.,\n",
       "       169., 177., 181., 185., 187., 188., 189., 203., 205., 207., 212.,\n",
       "       216., 225., 229., 231., 232., 235., 236., 237., 239., 245., 246.,\n",
       "       247., 249., 251., 253., 267., 276., 279., 282., 288., 294., 297.,\n",
       "       303., 304., 305., 306., 311., 314., 315., 323., 328., 351., 352.,\n",
       "       371., 372., 374., 392., 399., 404., 409., 413., 455., 520., 534.,\n",
       "       587., 635., 642., 647., 648., 649., 650., 655., 656., 659., 661.,\n",
       "       679., 680., 681., 695., 722., 731., 752., 765., 766., 778., 780.,\n",
       "       802., 808., 811., 820., 828.])"
      ]
     },
     "execution_count": 35,
     "metadata": {},
     "output_type": "execute_result"
    }
   ],
   "source": [
    "modulated_cl = r[r[:,2] < 0.01]\n",
    "modulated_cl[:,0]"
   ]
  },
  {
   "cell_type": "code",
   "execution_count": null,
   "id": "filled-western",
   "metadata": {},
   "outputs": [],
   "source": []
  }
 ],
 "metadata": {
  "kernelspec": {
   "display_name": "Python 3",
   "language": "python",
   "name": "python3"
  },
  "language_info": {
   "codemirror_mode": {
    "name": "ipython",
    "version": 3
   },
   "file_extension": ".py",
   "mimetype": "text/x-python",
   "name": "python",
   "nbconvert_exporter": "python",
   "pygments_lexer": "ipython3",
   "version": "3.7.10"
  }
 },
 "nbformat": 4,
 "nbformat_minor": 5
}
